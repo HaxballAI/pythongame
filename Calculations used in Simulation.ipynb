{
 "cells": [
  {
   "cell_type": "markdown",
   "metadata": {},
   "source": [
    "Equations for Simulation:"
   ]
  },
  {
   "cell_type": "markdown",
   "metadata": {},
   "source": [
    "Distance Travelled:  \n",
    "In the simulation, velocity is updated according to the following rule:\n",
    "$\\textbf{v}_{t+1} = (\\textbf{v}_{t}+k\\textbf{a})d$, where:  \n",
    "$k=$ player acceleration constant,  \n",
    "$\\textbf{a}=$ player acceleration direction vector,  \n",
    "$d=$ player damping coefficient.  \n",
    "\n",
    "This relationship can be expanded to get an explicit form for $\\textbf{v}_t$:  \n",
    "$\\textbf{v}_{t} = d\\textbf{v}_{t-1}+dk\\textbf{a} = d(d\\textbf{v}_{t-2}+dk\\textbf{a})+dk\\textbf{a}= d^2\\textbf{v}_{t-2}+d^2k\\textbf{a}+dk\\textbf{a}$  \n",
    "$... = d^{t}\\textbf{v}_{0}+dk\\textbf{a}(1+d+d^2+...+d^{t-1})$  \n",
    "$= d^{t}\\textbf{v}_{0}+\\frac{d(1-d^{t})}{1-d}k\\textbf{a}$  \n",
    "We can then use this to find an explicit form for the displacement from $\\textbf{x}_0$:  \n",
    "$\\textbf{x}_t = \\sum_{i=1}^t \\textbf{v}_{i}$  \n",
    "$=\\sum_{i=1}^t d^{i}\\textbf{v}_{0}+\\frac{d}{1-d}k\\textbf{a}-\\frac{d^{i-1}}{1-d}d^2k\\textbf{a}$  \n",
    "$=\\frac{d(1-d^{t})}{1-d}\\textbf{v}_{0}+\\frac{d}{1-d}k\\textbf{a}t-\\frac{1-d^{t}}{(1-d)^2}d^2k\\textbf{a}$  \n",
    "$=\\frac{d}{1-d}k\\textbf{a}t+(\\frac{d}{1-d}\\textbf{v}_{0}-\\frac{d^2}{(1-d)^2}k\\textbf{a})(1-d^{t})$"
   ]
  },
  {
   "cell_type": "markdown",
   "metadata": {},
   "source": [
    "This can be used for numerous things, including:\n",
    "- Predicting time taken to travel a certain distance by inversion\n",
    "- "
   ]
  },
  {
   "cell_type": "code",
   "execution_count": null,
   "metadata": {},
   "outputs": [],
   "source": []
  }
 ],
 "metadata": {
  "kernelspec": {
   "display_name": "Python 3",
   "language": "python",
   "name": "python3"
  },
  "language_info": {
   "codemirror_mode": {
    "name": "ipython",
    "version": 3
   },
   "file_extension": ".py",
   "mimetype": "text/x-python",
   "name": "python",
   "nbconvert_exporter": "python",
   "pygments_lexer": "ipython3",
   "version": "3.4.3"
  }
 },
 "nbformat": 4,
 "nbformat_minor": 2
}
